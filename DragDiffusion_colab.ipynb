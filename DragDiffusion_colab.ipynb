{
    "nbformat": 4,
    "nbformat_minor": 0,
    "metadata": {
      "colab": {
        "provenance": [],
        "gpuType": "T4"
      },
      "kernelspec": {
        "name": "python3",
        "display_name": "Python 3"
      },
      "language_info": {
        "name": "python"
      },
      "accelerator": "GPU"
    },
    "cells": [
        {
          "cell_type": "markdown",
          "metadata": {
            "id": "view-in-github"
          },
          "source": [
            "[![Open In Colab](https://colab.research.google.com/assets/colab-badge.svg)](https://colab.research.google.com/github/camenduru/DragDiffusion-colab/blob/main/DragDiffusion_colab.ipynb)"
          ]
        },
      {
        "cell_type": "code",
        "execution_count": null,
        "metadata": {
          "id": "XvH6lW2YOLOm"
        },
        "outputs": [],
        "source": [
          "!git clone -b dev https://github.com/camenduru/DragDiffusion\n",
          "%cd /content/DragDiffusion\n",
          "!pip install gradio einops diffusers pytorch_lightning transformers\n",
          "!python drag_ui_real.py"
        ]
      }
    ]
  }